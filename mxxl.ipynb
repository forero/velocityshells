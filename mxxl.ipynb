{
 "cells": [
  {
   "cell_type": "code",
   "execution_count": 2,
   "metadata": {
    "collapsed": false
   },
   "outputs": [],
   "source": [
    "import numpy as np\n",
    "import matplotlib.pyplot as plt\n",
    "import h5py \n",
    "%matplotlib inline"
   ]
  },
  {
   "cell_type": "code",
   "execution_count": 13,
   "metadata": {
    "collapsed": true
   },
   "outputs": [],
   "source": [
    "snapfilename = '/project/projectdirs/desi/mocks/bgs/MXXL/snapshot/galaxy_catalogue_snapshot_55.hdf5'\n",
    "f = h5py.File(snapfilename)"
   ]
  },
  {
   "cell_type": "code",
   "execution_count": 5,
   "metadata": {
    "collapsed": true
   },
   "outputs": [],
   "source": [
    "vel = f['Data/vel'][...]"
   ]
  },
  {
   "cell_type": "code",
   "execution_count": 6,
   "metadata": {
    "collapsed": true
   },
   "outputs": [],
   "source": [
    "pos = f['Data/pos'][...]"
   ]
  },
  {
   "cell_type": "code",
   "execution_count": 14,
   "metadata": {
    "collapsed": true
   },
   "outputs": [],
   "source": [
    "r_abs_mag = f['Data/abs_mag'][...]"
   ]
  },
  {
   "cell_type": "code",
   "execution_count": 15,
   "metadata": {
    "collapsed": true
   },
   "outputs": [],
   "source": [
    "f.close()"
   ]
  },
  {
   "cell_type": "code",
   "execution_count": 22,
   "metadata": {
    "collapsed": false
   },
   "outputs": [],
   "source": [
    "l_box = pos[:,0].max()"
   ]
  },
  {
   "cell_type": "code",
   "execution_count": 23,
   "metadata": {
    "collapsed": false
   },
   "outputs": [],
   "source": [
    "r_center = np.sqrt((pos[:,0]-l_box*0.5)**2 + (pos[:,1]-l_box*0.5)**2 + (pos[:,2]-l_box*0.5)**2)"
   ]
  },
  {
   "cell_type": "code",
   "execution_count": 52,
   "metadata": {
    "collapsed": false
   },
   "outputs": [
    {
     "name": "stdout",
     "output_type": "stream",
     "text": [
      "[  100.   275.   450.   625.   800.   975.  1150.  1325.  1500.]\n"
     ]
    }
   ],
   "source": [
    "r_bins = np.linspace(100,1500,9)\n",
    "print(r_bins)\n",
    "mean_vel_x = r_bins.copy()\n",
    "mean_vel_y = r_bins.copy()\n",
    "mean_vel_z = r_bins.copy()\n",
    "n_inside = r_bins.copy()"
   ]
  },
  {
   "cell_type": "code",
   "execution_count": 53,
   "metadata": {
    "collapsed": false
   },
   "outputs": [
    {
     "name": "stdout",
     "output_type": "stream",
     "text": [
      "done with bin 100.0\n",
      "done with bin 275.0\n",
      "done with bin 450.0\n",
      "done with bin 625.0\n",
      "done with bin 800.0\n",
      "done with bin 975.0\n",
      "done with bin 1150.0\n",
      "done with bin 1325.0\n",
      "done with bin 1500.0\n"
     ]
    }
   ],
   "source": [
    "for i in range(len(r_bins)):\n",
    "    ii = (r_center < r_bins[i]) & (r_abs_mag < -20.0)\n",
    "    n_inside[i] = np.count_nonzero(ii)\n",
    "    mean_vel_x[i] = np.mean(vel[ii,0])\n",
    "    mean_vel_y[i] = np.mean(vel[ii,1])\n",
    "    mean_vel_z[i] = np.mean(vel[ii,2])\n",
    "    print('done with bin {}'.format(r_bins[i]))"
   ]
  },
  {
   "cell_type": "code",
   "execution_count": 54,
   "metadata": {
    "collapsed": false
   },
   "outputs": [
    {
     "data": {
      "text/plain": [
       "<matplotlib.text.Text at 0x2b076c126f98>"
      ]
     },
     "execution_count": 54,
     "metadata": {},
     "output_type": "execute_result"
    },
    {
     "data": {
      "image/png": "[encoded data removed]",
      "text/plain": [
       "<matplotlib.figure.Figure at 0x2b076c101d30>"
      ]
     },
     "metadata": {},
     "output_type": "display_data"
    }
   ],
   "source": [
    "mean_vel =np.sqrt(mean_vel_x**2 + mean_vel_y**2 + mean_vel_z**2)\n",
    "plt.plot(r_bins, mean_vel)\n",
    "plt.yscale('log')\n",
    "plt.ylim([5,300])\n",
    "plt.xlabel('Radius [Mpc/h] ')\n",
    "plt.ylabel('Norm of the Mean 3D Velocity [km/s]')"
   ]
  },
  {
   "cell_type": "code",
   "execution_count": null,
   "metadata": {
    "collapsed": true
   },
   "outputs": [],
   "source": []
  }
 ],
 "metadata": {
  "anaconda-cloud": {},
  "kernelspec": {
   "display_name": "Python 3.5",
   "language": "python",
   "name": "python3.5"
  },
  "language_info": {
   "codemirror_mode": {
    "name": "ipython",
    "version": 3
   },
   "file_extension": ".py",
   "mimetype": "text/x-python",
   "name": "python",
   "nbconvert_exporter": "python",
   "pygments_lexer": "ipython3",
   "version": "3.5.2"
  }
 },
 "nbformat": 4,
 "nbformat_minor": 0
}
