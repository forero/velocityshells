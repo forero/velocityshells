{
 "cells": [
  {
   "cell_type": "code",
   "execution_count": 2,
   "metadata": {
    "collapsed": false
   },
   "outputs": [],
   "source": [
    "import numpy as np\n",
    "import matplotlib.pyplot as plt\n",
    "import h5py \n",
    "%matplotlib inline"
   ]
  },
  {
   "cell_type": "code",
   "execution_count": 13,
   "metadata": {
    "collapsed": true
   },
   "outputs": [],
   "source": [
    "snapfilename = '/project/projectdirs/desi/mocks/bgs/MXXL/snapshot/galaxy_catalogue_snapshot_55.hdf5'\n",
    "f = h5py.File(snapfilename)"
   ]
  },
  {
   "cell_type": "code",
   "execution_count": 5,
   "metadata": {
    "collapsed": true
   },
   "outputs": [],
   "source": [
    "vel = f['Data/vel'][...]"
   ]
  },
  {
   "cell_type": "code",
   "execution_count": 6,
   "metadata": {
    "collapsed": true
   },
   "outputs": [],
   "source": [
    "pos = f['Data/pos'][...]"
   ]
  },
  {
   "cell_type": "code",
   "execution_count": 14,
   "metadata": {
    "collapsed": true
   },
   "outputs": [],
   "source": [
    "r_abs_mag = f['Data/abs_mag'][...]"
   ]
  },
  {
   "cell_type": "code",
   "execution_count": 15,
   "metadata": {
    "collapsed": true
   },
   "outputs": [],
   "source": [
    "f.close()"
   ]
  },
  {
   "cell_type": "code",
   "execution_count": 145,
   "metadata": {
    "collapsed": true
   },
   "outputs": [],
   "source": [
    "n_points = len(pos)"
   ]
  },
  {
   "cell_type": "code",
   "execution_count": 167,
   "metadata": {
    "collapsed": false
   },
   "outputs": [],
   "source": [
    "def get_mean_velocity(center_x, center_y, center_z):\n",
    "    r = np.sqrt((pos[:,0]-center_x)**2 + (pos[:,1]-center_y)**2 + (pos[:,2]-center_z)**2)\n",
    "    ii = r < 800.0\n",
    "    vel_inside = vel[ii,:]\n",
    "    r_center = r[ii] \n",
    "    r_abs_inside = r_abs_mag[ii]\n",
    "\n",
    "    r_bins = np.arange(50,700,50)\n",
    "    mean_vel_x = r_bins.copy()\n",
    "    mean_vel_y = r_bins.copy()\n",
    "    mean_vel_z = r_bins.copy()\n",
    "    n_inside = r_bins.copy()\n",
    "\n",
    "    for i in range(len(r_bins)):\n",
    "        ii = (r_center < r_bins[i]) & (r_abs_inside < -20.0)\n",
    "        n_inside[i] = np.count_nonzero(ii)\n",
    "        mean_vel_x[i] = np.mean(vel_inside[ii,0])\n",
    "        mean_vel_y[i] = np.mean(vel_inside[ii,1])\n",
    "        mean_vel_z[i] = np.mean(vel_inside[ii,2])\n",
    "    print('done with bin {}'.format(r_bins[i]))\n",
    "    mean_vel =np.sqrt(mean_vel_x**2 + mean_vel_y**2 + mean_vel_z**2)\n",
    "\n",
    "    return {'radius':r_bins, 'velocity':mean_vel}"
   ]
  },
  {
   "cell_type": "code",
   "execution_count": 168,
   "metadata": {
    "collapsed": false
   },
   "outputs": [],
   "source": [
    "def get_spheres(n_spheres=10):\n",
    "    spheres = {}\n",
    "    for i in range(n_spheres):\n",
    "        center_x = center_y = center_z = 0.0\n",
    "        while (center_x < 700) | (center_y < 700) | (center_z < 700):\n",
    "            i_center = np.random.choice(np.arange(n_points//100))\n",
    "            print(n_points, i_center)\n",
    "            center_x = pos[i_center,0]\n",
    "            center_y = pos[i_center,1]\n",
    "            center_z = pos[i_center,2]\n",
    "        print(i, center_x, center_y, center_z)\n",
    "        spheres[i] = get_mean_velocity(center_x, center_y, center_z)\n",
    "    return spheres"
   ]
  },
  {
   "cell_type": "code",
   "execution_count": 172,
   "metadata": {
    "collapsed": false
   },
   "outputs": [
    {
     "name": "stdout",
     "output_type": "stream",
     "text": [
      "729858655 4222412\n",
      "0 1161.2 2574.85 2326.07\n",
      "done with bin 650\n",
      "729858655 6906759\n",
      "1 2448.97 2385.0 1166.13\n",
      "done with bin 650\n",
      "729858655 5264195\n",
      "2 2785.22 2463.32 1268.65\n",
      "done with bin 650\n",
      "729858655 1928097\n",
      "3 2211.11 1564.08 892.766\n",
      "done with bin 650\n",
      "729858655 4336599\n",
      "4 2506.9 1925.74 2796.89\n",
      "done with bin 650\n",
      "729858655 1313525\n",
      "5 1328.32 774.41 2618.56\n",
      "done with bin 650\n",
      "729858655 794901\n",
      "6 1406.1 1073.12 2192.61\n",
      "done with bin 650\n",
      "729858655 1319025\n",
      "7 1691.03 2720.07 2657.78\n",
      "done with bin 650\n",
      "729858655 4717449\n",
      "729858655 1511656\n",
      "729858655 6078797\n",
      "729858655 3328037\n",
      "729858655 6778757\n",
      "729858655 5896479\n",
      "8 1519.48 1062.92 1951.23\n",
      "done with bin 650\n",
      "729858655 1092492\n",
      "729858655 2050807\n",
      "729858655 4231310\n",
      "729858655 892935\n",
      "729858655 3936781\n",
      "9 2466.52 2067.49 1713.67\n",
      "done with bin 650\n",
      "729858655 1950212\n",
      "10 2702.39 1374.68 2786.36\n",
      "done with bin 650\n",
      "729858655 6473454\n",
      "11 2775.9 1578.78 932.68\n",
      "done with bin 650\n",
      "729858655 197213\n",
      "729858655 1992176\n",
      "729858655 2670401\n",
      "729858655 5482300\n",
      "12 1611.06 2877.21 881.737\n",
      "done with bin 650\n",
      "729858655 3383933\n",
      "13 1493.48 1172.34 902.917\n",
      "done with bin 650\n",
      "729858655 3915501\n",
      "14 2700.71 2685.91 1538.21\n",
      "done with bin 650\n",
      "729858655 3813010\n",
      "15 2659.84 1936.43 839.232\n",
      "done with bin 650\n",
      "729858655 33806\n",
      "729858655 3052482\n",
      "16 1015.57 2348.06 1753.05\n",
      "done with bin 650\n",
      "729858655 4493200\n",
      "729858655 1359286\n",
      "729858655 7000794\n",
      "17 1653.61 747.035 1331.72\n",
      "done with bin 650\n",
      "729858655 86311\n",
      "18 2091.68 1041.26 1844.67\n",
      "done with bin 650\n",
      "729858655 2986376\n",
      "19 798.766 2637.0 1734.77\n",
      "done with bin 650\n"
     ]
    }
   ],
   "source": [
    "spheres = get_spheres(n_spheres=20)"
   ]
  },
  {
   "cell_type": "code",
   "execution_count": 179,
   "metadata": {
    "collapsed": false
   },
   "outputs": [
    {
     "name": "stdout",
     "output_type": "stream",
     "text": [
      "13\n"
     ]
    }
   ],
   "source": [
    "n_bins = len(spheres[0]['radius'])\n",
    "n_spheres = 20\n",
    "mean_vel_sphere = np.ones(n_bins)\n",
    "std_vel_sphere = np.ones(n_bins)\n",
    "\n",
    "for i in range(n_bins):\n",
    "    v = []\n",
    "    for s in range(n_spheres):\n",
    "        v.append(spheres[s]['velocity'][i])\n",
    "    mean_vel_sphere[i] = np.mean(v)\n",
    "    std_vel_sphere[i] = np.std(v)\n",
    "print(n_bins)"
   ]
  },
  {
   "cell_type": "code",
   "execution_count": 187,
   "metadata": {
    "collapsed": false
   },
   "outputs": [
    {
     "data": {
      "text/plain": [
       "<matplotlib.text.Text at 0x2b078d888438>"
      ]
     },
     "execution_count": 187,
     "metadata": {},
     "output_type": "execute_result"
    },
    {
     "data": {
      "image/png": "[encoded data removed]",
      "text/plain": [
       "<matplotlib.figure.Figure at 0x2b078d85d5c0>"
      ]
     },
     "metadata": {},
     "output_type": "display_data"
    }
   ],
   "source": [
    "mean_vel =np.sqrt(mean_vel_x**2 + mean_vel_y**2 + mean_vel_z**2)\n",
    "fig = plt.figure(1, figsize=(7,6))\n",
    "plt.rc('text', usetex=False)\n",
    "plt.rc('font', family='serif', size=25)\n",
    "\n",
    "\n",
    "plt.errorbar(sphere['radius']/10, mean_vel_sphere, yerr=std_vel_sphere,\n",
    "            fmt='o', markersize=10, color='black', alpha=0.9)\n",
    "\n",
    "plt.ylim([5,500])\n",
    "plt.xlim([0,62])\n",
    "plt.grid()\n",
    "plt.xlabel(r\"Radial Velocity [1000 km/s]\")\n",
    "plt.ylabel(r\"Norm Mean 3D Velocity [km/s]\")\n",
    "#plt.savefig('velocity_radius_sim.pdf', bbox_inches='tight')"
   ]
  },
  {
   "cell_type": "code",
   "execution_count": null,
   "metadata": {
    "collapsed": true
   },
   "outputs": [],
   "source": []
  }
 ],
 "metadata": {
  "anaconda-cloud": {},
  "kernelspec": {
   "display_name": "Python 3.5",
   "language": "python",
   "name": "python3.5"
  },
  "language_info": {
   "codemirror_mode": {
    "name": "ipython",
    "version": 3
   },
   "file_extension": ".py",
   "mimetype": "text/x-python",
   "name": "python",
   "nbconvert_exporter": "python",
   "pygments_lexer": "ipython3",
   "version": "3.5.2"
  }
 },
 "nbformat": 4,
 "nbformat_minor": 0
}
